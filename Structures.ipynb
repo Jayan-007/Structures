{
  "nbformat": 4,
  "nbformat_minor": 0,
  "metadata": {
    "colab": {
      "provenance": []
    },
    "kernelspec": {
      "name": "python3",
      "display_name": "Python 3"
    },
    "language_info": {
      "name": "python"
    }
  },
  "cells": [
    {
      "cell_type": "markdown",
      "source": [
        "#Structures"
      ],
      "metadata": {
        "id": "mlebBcpzblo9"
      }
    },
    {
      "cell_type": "markdown",
      "source": [
        "Q1. What are data structures, and why are they important?\n",
        "  - Data structures are organized ways to store and manage data efficiently, helping with fast access, modification, and processing in programs.\n",
        "\n",
        "Q2. Difference between mutable and immutable data types (with examples):\n",
        "\n",
        "  - Mutable: Can be changed after creation (e.g., lists, dictionaries).\n",
        "\n",
        "  - Immutable: Cannot be changed after creation (e.g., strings, tuples).\n",
        "  - Example: my_list[0] = 10 works, but my_tuple[0] = 10 gives an error.\n",
        "\n",
        "   Main differences between lists and tuples in Python:\n",
        "  - Lists are mutable and slower in access, while tuples are immutable and faster.  - Lists are used when data may change; tuples when data is constant.\n",
        "\n",
        "Q3. How dictionaries store data:\n",
        "  - Dictionaries store data as key-value pairs using a hash table, allowing fast  lookup by keys.\n",
        "\n",
        "Q4. Why use a set instead of a list in Python:\n",
        "  - Sets store unique items and are faster for checking membership. Use them to eliminate duplicates and for fast searches.\n",
        "\n",
        "Q5. What is a string in Python, and how is it different from a list:\n",
        "   - A string is an immutable sequence of characters. Unlike lists, strings can't be modified in place and are specifically meant for text.\n",
        "\n",
        "Q6. How do tuples ensure data integrity in Python:\n",
        "   - Tuples are immutable, which means once created, the data can’t change—ideal for fixed collections that shouldn't be altered.\n",
        "\n",
        "Q7. What is a hash table, and how does it relate to dictionaries in Python:\n",
        "  - A hash table maps keys to indices via a hash function. Python dictionaries use this mechanism for efficient key-based access.\n",
        "\n",
        "Q8. Can lists contain different data types in Python?\n",
        "  - Yes, Python lists can store elements of different types, like [1, \"hello\", 3.5].\n",
        "\n",
        "Q9. Why are strings immutable in Python:\n",
        "  - Immutability improves performance and security, allowing strings to be shared safely and hashed for use as dictionary keys.\n",
        "\n",
        "Q10. Advantages of dictionaries over lists for certain tasks:\n",
        "   - Dictionaries offer faster data retrieval using keys and are better for storing labeled data (e.g., name-age pairs).\n",
        "\n",
        "Q11. Describe a Scenario where a tuple is preferable over a list.\n",
        "  - When returning multiple fixed values from a function or using a key in a dictionary, use a tuple to prevent accidental changes.\n",
        "\n",
        "Q12. How sets handle duplicate values in Python.\n",
        "  - Sets automatically discard duplicate values and only store unique elements.\n",
        "\n",
        "Q13. How the “in” keyword works differently for lists and dictionaries.\n",
        "\n",
        "  - For lists: Checks if a value exists.\n",
        "\n",
        "  - For dictionaries: Checks if a key exists (not the value).\n",
        "\n",
        "Q14. Can you modify the elements of a tuple? Why or why not?\n",
        "  - No, because tuples are immutable. Once defined, their contents can’t be altered.\n",
        "\n",
        "Q15. What is a nested dictionary, and give an example.\n",
        "  - A dictionary inside another dictionary.\n",
        "Example: users = {\"alice\": {\"age\": 25, \"email\": \"a@example.com\"}}.\n",
        "\n",
        "Q16. Describe Time complexity of accessing elements in a dictionary.\n",
        "   - In Python, accessing elements in a dictionary using a key has an average-case time complexity of O(1), which means it takes constant time, regardless of the size of the dictionary.\n",
        "\n",
        "Q17. In what situations are lists preferred over dictionaries\n",
        "  - When maintaining order, allowing duplicates, or when there are no key-value pairs involved.\n",
        "\n",
        "Q18. Why dictionaries are considered unordered, and how that affects retrieval.\n",
        "  - Dictionaries were considered unordered because,\n",
        "   before Python 3.7, they did not preserve the order in which items were added. This meant that when you looped through a dictionary, the items could appear in any order.\n",
        "\n",
        "  - How it affects retrieval:\n",
        "You couldn’t rely on the order of elements, so dictionaries were used mainly for quick lookups by key, not for ordered data processing.\n",
        "\n",
        "  - Python 3.7 onward**, dictionaries **do preserve insertion order**, but they're still mainly used for key-based access, not for ordered storage like lists.\n",
        "\n",
        "\n",
        "Q19. Difference between a list and a dictionary in data retrieval.\n",
        "\n",
        "  - Lists: Use numeric indices (e.g., my_list[2]).\n",
        "\n",
        "  - Dictionaries: Use keys (e.g., my_dict[\"name\"]), which is faster for large datasets.\n",
        "\n",
        "  In terms of data retrieval :\n",
        "\n",
        "---\n",
        "\n",
        "| Feature                | **List**                                      | **Dictionary**                                             |\n",
        "| ---------------------- | --------------------------------------------- | ---------------------------------------------------------- |\n",
        "| **Access method**      | By **index** (e.g., `my_list[0]`)             | By **key** (e.g., `my_dict[\"name\"]`)                       |\n",
        "| **Key type**           | Only integers (index starting from 0)         | Can be any immutable type (e.g., strings, numbers, tuples) |\n",
        "| **Lookup speed**       | Slower for search (O(n) if value is unknown)  | Fast lookup by key (average O(1))                          |\n",
        "| **Use case**           | Ordered data, sequences                       | Labeled/associated data                                    |\n",
        "| **Order preservation** | Maintains order of elements                   | Maintains insertion order (since Python 3.7)               |\n",
        "| **Duplicates**         | Allows duplicates                             | Keys must be unique                                        |\n",
        "| **Best for**           | Iterating in order, storing items by position | Storing items with named labels or identifiers             |\n",
        "| **Memory usage**       | Less than dictionaries                        | More, due to hashing and key-value mapping                 |\n",
        "| **Modification**       | Modify by index                               | Modify by key                                              |\n",
        "| **Syntax simplicity**  | Simpler for small sequences                   | More structured, good for complex data                     |\n",
        "\n",
        "---\n",
        "\n",
        "### 🔑 Example:\n",
        "\n",
        "```python\n",
        "# List (ordered sequence)\n",
        "fruits = [\"apple\", \"banana\", \"cherry\"]\n",
        "print(fruits[1])  # Output: banana\n",
        "\n",
        "# Dictionary (key-value mapping)\n",
        "person = {\"name\": \"Alice\", \"age\": 30}\n",
        "print(person[\"name\"])  # Output: Alice\n",
        "\n"
      ],
      "metadata": {
        "id": "_L7YY9YYbqr8"
      }
    },
    {
      "cell_type": "markdown",
      "source": [
        "#Practice Questions"
      ],
      "metadata": {
        "id": "xV-3ImcGkLSq"
      }
    },
    {
      "cell_type": "code",
      "source": [
        "# Q1. Write a code to create a string with your name and print it.\n",
        "name = \"Jhon Smith\"\n",
        "print(name)"
      ],
      "metadata": {
        "colab": {
          "base_uri": "https://localhost:8080/"
        },
        "id": "M1ekRcE3j76C",
        "outputId": "143a2f5a-c326-433c-e1d6-61f81adcb482"
      },
      "execution_count": null,
      "outputs": [
        {
          "output_type": "stream",
          "name": "stdout",
          "text": [
            "Jhon Smith\n"
          ]
        }
      ]
    },
    {
      "cell_type": "code",
      "execution_count": null,
      "metadata": {
        "colab": {
          "base_uri": "https://localhost:8080/"
        },
        "id": "QUyxFMLabdjs",
        "outputId": "d0150b6b-b878-4885-ce5d-6a4574186ad7"
      },
      "outputs": [
        {
          "output_type": "stream",
          "name": "stdout",
          "text": [
            "11\n"
          ]
        }
      ],
      "source": [
        "# Q2. Write a code to find the length of the string \"Hello World\"\n",
        "name = \"Hello World\"\n",
        "print(len(name))"
      ]
    },
    {
      "cell_type": "code",
      "source": [
        "# Q3. Write a code to slice the first 3 characters from the string \"Python Programming\"\n",
        "a = \"Python Programming\"\n",
        "b = a[:3:]\n",
        "print(b)"
      ],
      "metadata": {
        "colab": {
          "base_uri": "https://localhost:8080/"
        },
        "id": "flNv3Uddlp3i",
        "outputId": "0b57cb51-7794-48cf-92a3-430966ec40e5"
      },
      "execution_count": null,
      "outputs": [
        {
          "output_type": "stream",
          "name": "stdout",
          "text": [
            "Pyt\n"
          ]
        }
      ]
    },
    {
      "cell_type": "code",
      "source": [
        "# Q4. Write a code to convert the string \"hello\" to uppercase.\n",
        "a = \"hello\"\n",
        "b = a.upper()\n",
        "print(b)\n"
      ],
      "metadata": {
        "colab": {
          "base_uri": "https://localhost:8080/"
        },
        "id": "J1BeYVIemer3",
        "outputId": "e2be0d99-2830-43c9-a57d-b50b6886153d"
      },
      "execution_count": null,
      "outputs": [
        {
          "output_type": "stream",
          "name": "stdout",
          "text": [
            "HELLO\n"
          ]
        }
      ]
    },
    {
      "cell_type": "code",
      "source": [
        "# Q5. Write a code to replace the word \"apple\" with \"orange\" in the string \"I like apple\"\n",
        "a = \"I like apple\"\n",
        "b= a.replace(\"apple\", \"orange\")\n",
        "print(b)\n",
        "\n"
      ],
      "metadata": {
        "colab": {
          "base_uri": "https://localhost:8080/"
        },
        "id": "FbePOcQSnnJj",
        "outputId": "9a73dd72-c09a-4a19-ebc3-cf7281d19099"
      },
      "execution_count": null,
      "outputs": [
        {
          "output_type": "stream",
          "name": "stdout",
          "text": [
            "I like orange\n"
          ]
        }
      ]
    },
    {
      "cell_type": "code",
      "source": [
        "# Q6. Write a code to create a list with numbers 1 to 5 and print it.\n",
        "numbers = [1, 2, 3, 4, 5]\n",
        "print(numbers)\n"
      ],
      "metadata": {
        "colab": {
          "base_uri": "https://localhost:8080/"
        },
        "id": "efirxPXGNmI_",
        "outputId": "283c3808-5687-4a7f-a84a-30190df95645"
      },
      "execution_count": 2,
      "outputs": [
        {
          "output_type": "stream",
          "name": "stdout",
          "text": [
            "[1, 2, 3, 4, 5]\n"
          ]
        }
      ]
    },
    {
      "cell_type": "code",
      "source": [
        "# Q7. Write a code to append the number 10 to the list [1, 2, 3, 4].\n",
        "numbers = [1, 2, 3, 4]\n",
        "numbers.append(10)\n",
        "print(numbers)"
      ],
      "metadata": {
        "colab": {
          "base_uri": "https://localhost:8080/"
        },
        "id": "h9Q3Kz5kOLGq",
        "outputId": "b6a86d0b-eae4-4694-e384-bd6d31bae3e6"
      },
      "execution_count": 3,
      "outputs": [
        {
          "output_type": "stream",
          "name": "stdout",
          "text": [
            "[1, 2, 3, 4, 10]\n"
          ]
        }
      ]
    },
    {
      "cell_type": "code",
      "source": [
        "# Q8. Write a code to remove the number 3 from the list [1, 2, 3, 4, 5].\n",
        "numbers = [1, 2, 3, 4, 5]\n",
        "numbers.remove(3)\n",
        "print(numbers)"
      ],
      "metadata": {
        "colab": {
          "base_uri": "https://localhost:8080/"
        },
        "id": "kCI5obVpOcYn",
        "outputId": "f48d8039-7272-4ed6-bc76-5fc51e310368"
      },
      "execution_count": 4,
      "outputs": [
        {
          "output_type": "stream",
          "name": "stdout",
          "text": [
            "[1, 2, 4, 5]\n"
          ]
        }
      ]
    },
    {
      "cell_type": "code",
      "source": [
        "# Q9. Write a code to access the second element in the list ['a', 'b', 'c', 'd'].\n",
        "letters = ['a', 'b', 'c', 'd']\n",
        "print(letters[1])  # Indexing starts from 0"
      ],
      "metadata": {
        "colab": {
          "base_uri": "https://localhost:8080/"
        },
        "id": "uiBR6NeROvhu",
        "outputId": "9631effb-424c-402a-b183-3b44dc3af26f"
      },
      "execution_count": 5,
      "outputs": [
        {
          "output_type": "stream",
          "name": "stdout",
          "text": [
            "b\n"
          ]
        }
      ]
    },
    {
      "cell_type": "code",
      "source": [
        "# Q10. Write a code to reverse the list [10, 20, 30, 40, 50].\n",
        "numbers = [10, 20, 30, 40, 50]\n",
        "numbers.reverse()\n",
        "print(numbers)"
      ],
      "metadata": {
        "colab": {
          "base_uri": "https://localhost:8080/"
        },
        "id": "PU-vMaTgPEzB",
        "outputId": "91a2e53e-9942-48a9-d81e-cb1e0a5c3de7"
      },
      "execution_count": 6,
      "outputs": [
        {
          "output_type": "stream",
          "name": "stdout",
          "text": [
            "[50, 40, 30, 20, 10]\n"
          ]
        }
      ]
    },
    {
      "cell_type": "code",
      "source": [
        "# Q11. Write a code to create a tuple with the elements 100, 200, 300 and print it.\n",
        "my_tuple = (100, 200, 300)\n",
        "print(my_tuple)"
      ],
      "metadata": {
        "colab": {
          "base_uri": "https://localhost:8080/"
        },
        "id": "w4i4HAu7PX3L",
        "outputId": "ad96ba27-7285-43ca-d3fa-3ba80636db74"
      },
      "execution_count": 7,
      "outputs": [
        {
          "output_type": "stream",
          "name": "stdout",
          "text": [
            "(100, 200, 300)\n"
          ]
        }
      ]
    },
    {
      "cell_type": "code",
      "source": [
        "# Q12. Write a code to access the second-to-last element of the tuple ('red', 'green', 'blue', 'yellow').\n",
        "colors = ('red', 'green', 'blue', 'yellow')\n",
        "print(colors[-2])"
      ],
      "metadata": {
        "colab": {
          "base_uri": "https://localhost:8080/"
        },
        "id": "LGLib0JKPliZ",
        "outputId": "201c5a36-37cb-410d-a35f-a78904c7df42"
      },
      "execution_count": 8,
      "outputs": [
        {
          "output_type": "stream",
          "name": "stdout",
          "text": [
            "blue\n"
          ]
        }
      ]
    },
    {
      "cell_type": "code",
      "source": [
        "# Q13. Write a code to find the minimum number in the tuple (10, 20, 5, 15).\n",
        "numbers = (10, 20, 5, 15)\n",
        "print(min(numbers))"
      ],
      "metadata": {
        "colab": {
          "base_uri": "https://localhost:8080/"
        },
        "id": "hln_1a4kPwUY",
        "outputId": "52f0000f-6688-416d-aa00-9c6d3953cce7"
      },
      "execution_count": 9,
      "outputs": [
        {
          "output_type": "stream",
          "name": "stdout",
          "text": [
            "5\n"
          ]
        }
      ]
    },
    {
      "cell_type": "code",
      "source": [
        "# 14. Write a code to find the index of the element \"cat\" in the tuple ('dog', 'cat', 'rabbit').\n",
        "animals = ('dog', 'cat', 'rabbit')\n",
        "print(animals.index('cat'))"
      ],
      "metadata": {
        "colab": {
          "base_uri": "https://localhost:8080/"
        },
        "id": "Z06tnu6dP6Ae",
        "outputId": "64fe56b9-8269-49f0-d94b-d16571bd27b0"
      },
      "execution_count": 11,
      "outputs": [
        {
          "output_type": "stream",
          "name": "stdout",
          "text": [
            "1\n"
          ]
        }
      ]
    },
    {
      "cell_type": "code",
      "source": [
        "# Q15. Write a code to create a tuple containing three different fruits and check if \"kiwi\" is in it.\n",
        "fruits = ('apple', 'banana', 'orange')\n",
        "print('kiwi' in fruits)"
      ],
      "metadata": {
        "colab": {
          "base_uri": "https://localhost:8080/"
        },
        "id": "vaHpglfGQMhJ",
        "outputId": "6fe8cdb8-a69f-4f49-b673-f12a16c48215"
      },
      "execution_count": 12,
      "outputs": [
        {
          "output_type": "stream",
          "name": "stdout",
          "text": [
            "False\n"
          ]
        }
      ]
    },
    {
      "cell_type": "code",
      "source": [
        "# Q16. Write a code to create a set with the elements 'a', 'b', 'c' and print it.\n",
        "my_set = {'a', 'b', 'c'}\n",
        "print(my_set)"
      ],
      "metadata": {
        "colab": {
          "base_uri": "https://localhost:8080/"
        },
        "id": "HA4Bkb2uQav-",
        "outputId": "cd9c4385-8934-4d83-dabb-22888e20a23a"
      },
      "execution_count": 13,
      "outputs": [
        {
          "output_type": "stream",
          "name": "stdout",
          "text": [
            "{'a', 'b', 'c'}\n"
          ]
        }
      ]
    },
    {
      "cell_type": "code",
      "source": [
        "# Q17. Write a code to clear all elements from the set {1, 2, 3, 4, 5}.\n",
        "my_set = {1, 2, 3, 4, 5}\n",
        "my_set.clear()\n",
        "print(my_set)"
      ],
      "metadata": {
        "colab": {
          "base_uri": "https://localhost:8080/"
        },
        "id": "wP37MWZiQmDn",
        "outputId": "51389ecc-634c-4f07-f1e7-26e80e163ecf"
      },
      "execution_count": 14,
      "outputs": [
        {
          "output_type": "stream",
          "name": "stdout",
          "text": [
            "set()\n"
          ]
        }
      ]
    },
    {
      "cell_type": "code",
      "source": [
        "# Q18. Write a code to remove the element 4 from the set {1, 2, 3, 4}.\n",
        "my_set = {1, 2, 3, 4}\n",
        "my_set.remove(4)\n",
        "print(my_set)"
      ],
      "metadata": {
        "id": "K5a7VhLIQzFq"
      },
      "execution_count": null,
      "outputs": []
    },
    {
      "cell_type": "code",
      "source": [
        "# Q19. Write a code to find the union of two sets {1, 2, 3} and {3, 4, 5}.\n",
        "a = {1, 2, 3}\n",
        "b = {3, 4, 5}\n",
        "print(a.union(b))"
      ],
      "metadata": {
        "colab": {
          "base_uri": "https://localhost:8080/"
        },
        "id": "_WZkn-FiQ7VP",
        "outputId": "13d6d348-0bac-4387-af65-62fcacff5bc5"
      },
      "execution_count": 15,
      "outputs": [
        {
          "output_type": "stream",
          "name": "stdout",
          "text": [
            "{1, 2, 3, 4, 5}\n"
          ]
        }
      ]
    },
    {
      "cell_type": "code",
      "source": [
        "# Q20. Write a code to find the intersection of two sets {1, 2, 3} and {2, 3, 4}.\n",
        "a = {1, 2, 3}\n",
        "b = {2, 3, 4}\n",
        "print(a.intersection(b))"
      ],
      "metadata": {
        "colab": {
          "base_uri": "https://localhost:8080/"
        },
        "id": "uqmLsRw6RG3m",
        "outputId": "c364fc14-71f6-4ae2-fb4b-f4ff0335b65d"
      },
      "execution_count": 16,
      "outputs": [
        {
          "output_type": "stream",
          "name": "stdout",
          "text": [
            "{2, 3}\n"
          ]
        }
      ]
    },
    {
      "cell_type": "code",
      "source": [
        "# Q21. Write a code to create a dictionary with the keys \"name\", \"age\", and \"city\", and print it.\n",
        "person = {\"name\": \"John\", \"age\": 30, \"city\": \"New York\"}\n",
        "print(person)"
      ],
      "metadata": {
        "colab": {
          "base_uri": "https://localhost:8080/"
        },
        "id": "ZB9s-wzxRSHu",
        "outputId": "8ea1b110-2a38-4485-d69a-63c1184a53cf"
      },
      "execution_count": 17,
      "outputs": [
        {
          "output_type": "stream",
          "name": "stdout",
          "text": [
            "{'name': 'John', 'age': 30, 'city': 'New York'}\n"
          ]
        }
      ]
    },
    {
      "cell_type": "code",
      "source": [
        "# Q22. Write a code to add a new key-value pair \"country\": \"USA\" to the dictionary {'name': 'John', 'age': 25}.\n",
        "person = {'name': 'John', 'age': 25}\n",
        "person['country'] = 'USA'\n",
        "print(person)"
      ],
      "metadata": {
        "colab": {
          "base_uri": "https://localhost:8080/"
        },
        "id": "9QMoE5c7Rf6y",
        "outputId": "501cfdc9-395b-45e2-fa9c-6295bd6f1663"
      },
      "execution_count": 18,
      "outputs": [
        {
          "output_type": "stream",
          "name": "stdout",
          "text": [
            "{'name': 'John', 'age': 25, 'country': 'USA'}\n"
          ]
        }
      ]
    },
    {
      "cell_type": "code",
      "source": [
        "# Q23. Write a code to access the value associated with the key \"name\" in the dictionary {'name': 'Alice', 'age': 30}.\n",
        "person = {'name': 'Alice', 'age': 30}\n",
        "print(person['name'])"
      ],
      "metadata": {
        "colab": {
          "base_uri": "https://localhost:8080/"
        },
        "id": "q-xENod0RsDk",
        "outputId": "148f5879-1011-4759-8c28-53b55221b194"
      },
      "execution_count": 19,
      "outputs": [
        {
          "output_type": "stream",
          "name": "stdout",
          "text": [
            "Alice\n"
          ]
        }
      ]
    },
    {
      "cell_type": "code",
      "source": [
        "# Q24. Write a code to remove the key \"age\" from the dictionary {'name': 'Bob', 'age': 22, 'city': 'New York'}.\n",
        "person = {'name': 'Bob', 'age': 22, 'city': 'New York'}\n",
        "del person['age']\n",
        "print(person)"
      ],
      "metadata": {
        "colab": {
          "base_uri": "https://localhost:8080/"
        },
        "id": "Q6t5dnC7SFAU",
        "outputId": "696fa40e-f78e-439b-f4db-e753a94b4af9"
      },
      "execution_count": 20,
      "outputs": [
        {
          "output_type": "stream",
          "name": "stdout",
          "text": [
            "{'name': 'Bob', 'city': 'New York'}\n"
          ]
        }
      ]
    },
    {
      "cell_type": "code",
      "source": [
        "# Q25. Write a code to check if the key \"city\" exists in the dictionary {'name': 'Alice', 'city': 'Paris'}.\n",
        "person = {'name': 'Alice', 'city': 'Paris'}\n",
        "print('city' in person)"
      ],
      "metadata": {
        "colab": {
          "base_uri": "https://localhost:8080/"
        },
        "id": "_bbcxQLvSPg7",
        "outputId": "b7dba725-448b-4dd3-962a-8a36af3a4dd3"
      },
      "execution_count": 21,
      "outputs": [
        {
          "output_type": "stream",
          "name": "stdout",
          "text": [
            "True\n"
          ]
        }
      ]
    },
    {
      "cell_type": "code",
      "source": [
        "# Q26. Write a code to create a list, a tuple, and a dictionary, and print them all.\n",
        "my_list = [1, 2, 3]\n",
        "my_tuple = (4, 5, 6)\n",
        "my_dict = {\"a\": 1, \"b\": 2}\n",
        "print(my_list, my_tuple, my_dict)"
      ],
      "metadata": {
        "colab": {
          "base_uri": "https://localhost:8080/"
        },
        "id": "1jaiUUlgSd2K",
        "outputId": "ac133bae-18a0-4c38-bec5-ccdb4dc3cfaf"
      },
      "execution_count": 23,
      "outputs": [
        {
          "output_type": "stream",
          "name": "stdout",
          "text": [
            "[1, 2, 3] (4, 5, 6) {'a': 1, 'b': 2}\n"
          ]
        }
      ]
    },
    {
      "cell_type": "code",
      "source": [
        "# Q27. Write a code to create a list of 5 random numbers between 1 and 100, sort it in ascending order, and print the\n",
        "#result.(replaced)\n",
        "import random\n",
        "numbers = [random.randint(1, 100) for _ in range(5)]\n",
        "numbers.sort()\n",
        "print(numbers)"
      ],
      "metadata": {
        "colab": {
          "base_uri": "https://localhost:8080/"
        },
        "id": "E2RW2nMySeWG",
        "outputId": "fb39d813-6f4e-4358-8747-8db550215e07"
      },
      "execution_count": 24,
      "outputs": [
        {
          "output_type": "stream",
          "name": "stdout",
          "text": [
            "[27, 47, 52, 69, 95]\n"
          ]
        }
      ]
    },
    {
      "cell_type": "code",
      "source": [
        "# Q28. Write a code to create a list with strings and print the element at the third index.\n",
        "words = [\"apple\", \"banana\", \"cherry\", \"date\", \"fig\"]\n",
        "print(words[3])"
      ],
      "metadata": {
        "colab": {
          "base_uri": "https://localhost:8080/"
        },
        "id": "Eb_Fx1nrSgMM",
        "outputId": "b6eae1dc-8e73-4fca-f29f-2eee7f3fd0d0"
      },
      "execution_count": 25,
      "outputs": [
        {
          "output_type": "stream",
          "name": "stdout",
          "text": [
            "date\n"
          ]
        }
      ]
    },
    {
      "cell_type": "code",
      "source": [
        "# Q29. Write a code to combine two dictionaries into one and print the result.\n",
        "dict1 = {'a': 1, 'b': 2}\n",
        "dict2 = {'c': 3, 'd': 4}\n",
        "combined = {**dict1, **dict2}\n",
        "print(combined)"
      ],
      "metadata": {
        "colab": {
          "base_uri": "https://localhost:8080/"
        },
        "id": "JZN6VoCSSgmn",
        "outputId": "316d0e1f-a0b5-4aa9-af0c-9604d7728c0e"
      },
      "execution_count": 26,
      "outputs": [
        {
          "output_type": "stream",
          "name": "stdout",
          "text": [
            "{'a': 1, 'b': 2, 'c': 3, 'd': 4}\n"
          ]
        }
      ]
    },
    {
      "cell_type": "code",
      "source": [
        "# Q30. Write a code to convert a list of strings into a set.\n",
        "words = [\"apple\", \"banana\", \"apple\", \"cherry\"]\n",
        "unique_words = set(words)\n",
        "print(unique_words)"
      ],
      "metadata": {
        "colab": {
          "base_uri": "https://localhost:8080/"
        },
        "id": "nLHmdrIRShJm",
        "outputId": "e7b12e94-849f-4a3f-88e4-7a873f2a3234"
      },
      "execution_count": 27,
      "outputs": [
        {
          "output_type": "stream",
          "name": "stdout",
          "text": [
            "{'cherry', 'apple', 'banana'}\n"
          ]
        }
      ]
    }
  ]
}